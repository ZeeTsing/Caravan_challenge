{
 "cells": [
  {
   "cell_type": "markdown",
   "metadata": {},
   "source": [
    "Adapted from https://www.kaggle.com/stainsby/fast-tested-rle\n",
    "\n",
    "Getting a RLE encoder for final submission"
   ]
  },
  {
   "cell_type": "code",
   "execution_count": 9,
   "metadata": {},
   "outputs": [],
   "source": [
    "import time\n",
    "\n",
    "import numpy as np\n",
    "import pandas as pd\n",
    "import imageio\n",
    "import PIL\n",
    "\n",
    "from matplotlib import pyplot as plt\n",
    "\n",
    "INPUT_PATH = 'G:/Github/Caravan_challenge/data'\n",
    "\n",
    "TRAIN_MASKS_CSV_PATH = INPUT_PATH + '/train_masks.csv'\n",
    "TRAIN_MASKS_PATH = INPUT_PATH + '/train_masks'"
   ]
  },
  {
   "cell_type": "code",
   "execution_count": 3,
   "metadata": {},
   "outputs": [
    {
     "name": "stdout",
     "output_type": "stream",
     "text": [
      "                   img                                           rle_mask\n",
      "0  00087a6bd4dc_01.jpg  879386 40 881253 141 883140 205 885009 17 8850...\n",
      "1  00087a6bd4dc_02.jpg  873779 4 875695 7 877612 9 879528 12 881267 15...\n",
      "2  00087a6bd4dc_03.jpg  864300 9 866217 13 868134 15 870051 16 871969 ...\n",
      "3  00087a6bd4dc_04.jpg  879735 20 881650 26 883315 92 883564 30 885208...\n",
      "4  00087a6bd4dc_05.jpg  883365 74 883638 28 885262 119 885550 34 88716...\n"
     ]
    }
   ],
   "source": [
    "def read_train_masks():\n",
    "    global train_masks\n",
    "    train_masks = pd.read_csv(TRAIN_MASKS_CSV_PATH)\n",
    "    print(train_masks.head())\n",
    "\n",
    "\n",
    "read_train_masks()"
   ]
  },
  {
   "cell_type": "code",
   "execution_count": 15,
   "metadata": {},
   "outputs": [],
   "source": [
    "def read_mask_image(car_code, angle_code):\n",
    "    mask_img_path = TRAIN_MASKS_PATH + '/' + car_code + '_' + angle_code + '_mask.gif';\n",
    "    mask_img = imageio.imread(mask_img_path)\n",
    "    mask_img[mask_img <= 127] = 0\n",
    "    mask_img[mask_img > 127] = 1\n",
    "    return mask_img"
   ]
  },
  {
   "cell_type": "code",
   "execution_count": 16,
   "metadata": {},
   "outputs": [
    {
     "data": {
      "image/png": "[encoded data removed]",
      "text/plain": [
       "<Figure size 432x288 with 1 Axes>"
      ]
     },
     "metadata": {
      "needs_background": "light"
     },
     "output_type": "display_data"
    }
   ],
   "source": [
    "def show_mask_image(car_code, angle_code):\n",
    "    mask_img = read_mask_image(car_code, angle_code)\n",
    "    plt.imshow(mask_img, cmap = 'Greys_r')\n",
    "    plt.show()\n",
    "\n",
    "\n",
    "show_mask_image('00087a6bd4dc', '04')"
   ]
  },
  {
   "cell_type": "code",
   "execution_count": 17,
   "metadata": {},
   "outputs": [],
   "source": [
    "def rle_encode(mask_image):\n",
    "    pixels = mask_image.flatten()\n",
    "    # We avoid issues with '1' at the start or end (at the corners of \n",
    "    # the original image) by setting those pixels to '0' explicitly.\n",
    "    # We do not expect these to be non-zero for an accurate mask, \n",
    "    # so this should not harm the score.\n",
    "    pixels[0] = 0\n",
    "    pixels[-1] = 0\n",
    "    runs = np.where(pixels[1:] != pixels[:-1])[0] + 2\n",
    "    runs[1::2] = runs[1::2] - runs[:-1:2]\n",
    "    return runs\n",
    "\n",
    "\n",
    "def rle_to_string(runs):\n",
    "    return ' '.join(str(x) for x in runs)"
   ]
  },
  {
   "cell_type": "code",
   "execution_count": 18,
   "metadata": {},
   "outputs": [
    {
     "name": "stdout",
     "output_type": "stream",
     "text": [
      "Verfiying RLE encoding on 5088 masks ...\n",
      "  .. 500 tested ..\n",
      "  .. 1000 tested ..\n",
      "  .. 1500 tested ..\n",
      "  .. 2000 tested ..\n",
      "  .. 2500 tested ..\n",
      "  .. 3000 tested ..\n",
      "  .. 3500 tested ..\n",
      "  .. 4000 tested ..\n",
      "  .. 4500 tested ..\n",
      "  .. 5000 tested ..\n",
      "Time spent reading mask images: 187.7345944999994 s, => 36.897522503930695 ms per mask.\n",
      "Time spent RLE encoding masks: 21.991268600000588 s, => 4.322183294025273 ms per mask.\n",
      "Time spent stringifying RLEs: 4.832835100000711 s, => 0.9498496658806428 ms per mask.\n"
     ]
    }
   ],
   "source": [
    "def test_rle_encode():\n",
    "    test_mask = np.asarray([[0, 0, 0, 0], [0, 0, 1, 1], [0, 0, 1, 1], [0, 0, 0, 0]])\n",
    "    assert rle_to_string(rle_encode(test_mask)) == '7 2 11 2'\n",
    "    num_masks = len(train_masks['img'])\n",
    "    print('Verfiying RLE encoding on', num_masks, 'masks ...')\n",
    "    time_read = 0.0 # seconds\n",
    "    time_rle = 0.0 # seconds\n",
    "    time_stringify = 0.0 # seconds\n",
    "    for mask_idx in range(num_masks):\n",
    "        img_file_name = train_masks.loc[mask_idx, 'img']\n",
    "        car_code, angle_code = img_file_name.split('.')[0].split('_')\n",
    "        t0 = time.clock()\n",
    "        mask_image = read_mask_image(car_code, angle_code)\n",
    "        time_read += time.clock() - t0\n",
    "        t0 = time.clock()\n",
    "        rle_truth_str = train_masks.loc[mask_idx, 'rle_mask']\n",
    "        rle = rle_encode(mask_image)\n",
    "        time_rle += time.clock() - t0\n",
    "        t0 = time.clock()\n",
    "        rle_str = rle_to_string(rle)\n",
    "        time_stringify += time.clock() - t0\n",
    "        assert rle_str == rle_truth_str\n",
    "        if mask_idx and (mask_idx % 500) == 0:\n",
    "            print('  ..', mask_idx, 'tested ..')\n",
    "    print('Time spent reading mask images:', time_read, 's, =>', \\\n",
    "            1000*(time_read/num_masks), 'ms per mask.')\n",
    "    print('Time spent RLE encoding masks:', time_rle, 's, =>', \\\n",
    "            1000*(time_rle/num_masks), 'ms per mask.')\n",
    "    print('Time spent stringifying RLEs:', time_stringify, 's, =>', \\\n",
    "            1000*(time_stringify/num_masks), 'ms per mask.')\n",
    "\n",
    "\n",
    "test_rle_encode()"
   ]
  },
  {
   "cell_type": "code",
   "execution_count": 19,
   "metadata": {},
   "outputs": [],
   "source": [
    "img_file_name = train_masks.loc[1, 'img']\n",
    "car_code, angle_code = img_file_name.split('.')[0].split('_')\n",
    "mask_image = read_mask_image(car_code, angle_code)"
   ]
  },
  {
   "cell_type": "code",
   "execution_count": 21,
   "metadata": {},
   "outputs": [
    {
     "data": {
      "text/plain": [
       "(1280, 1918)"
      ]
     },
     "execution_count": 21,
     "metadata": {},
     "output_type": "execute_result"
    }
   ],
   "source": [
    "mask_image.shape"
   ]
  },
  {
   "cell_type": "code",
   "execution_count": null,
   "metadata": {},
   "outputs": [],
   "source": []
  }
 ],
 "metadata": {
  "kernelspec": {
   "display_name": "Python 3",
   "language": "python",
   "name": "python3"
  },
  "language_info": {
   "codemirror_mode": {
    "name": "ipython",
    "version": 3
   },
   "file_extension": ".py",
   "mimetype": "text/x-python",
   "name": "python",
   "nbconvert_exporter": "python",
   "pygments_lexer": "ipython3",
   "version": "3.6.10"
  }
 },
 "nbformat": 4,
 "nbformat_minor": 4
}
